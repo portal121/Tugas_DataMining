{
 "cells": [
  {
   "cell_type": "code",
   "execution_count": 16,
   "metadata": {},
   "outputs": [],
   "source": [
    "#import library\n",
    "import numpy as np\n",
    "import matplotlib.pyplot as plt\n",
    "import pandas as pd"
   ]
  },
  {
   "cell_type": "code",
   "execution_count": 17,
   "metadata": {},
   "outputs": [],
   "source": [
    "dataset = pd.read_csv('data1.csv')\n",
    "X = dataset.iloc[:, :-1].values\n",
    "Y = dataset.iloc[:, -1].values"
   ]
  },
  {
   "cell_type": "code",
   "execution_count": 18,
   "metadata": {},
   "outputs": [
    {
     "name": "stdout",
     "output_type": "stream",
     "text": [
      "[['Yudi' 38.0 2000000.0]\n",
      " ['Slamet' nan 1800000.0]\n",
      " ['Herman' 34.0 2200000.0]\n",
      " ['Yudi' 34.0 2800000.0]\n",
      " ['Slamet' 37.0 3200000.0]\n",
      " ['Herman' 29.0 2900000.0]\n",
      " ['Yudi' 37.0 2700000.0]\n",
      " ['Slamet' 38.0 2000000.0]\n",
      " ['Herman' 28.0 1900000.0]\n",
      " ['Yudi' nan nan]]\n"
     ]
    }
   ],
   "source": [
    "print(X)"
   ]
  },
  {
   "cell_type": "code",
   "execution_count": 19,
   "metadata": {},
   "outputs": [
    {
     "name": "stdout",
     "output_type": "stream",
     "text": [
      "['true;' 'false;' 'true;' 'false;' 'false;' 'true;' 'true;' 'false;'\n",
      " 'false;' 'false;']\n"
     ]
    }
   ],
   "source": [
    "print(Y)"
   ]
  },
  {
   "cell_type": "code",
   "execution_count": 20,
   "metadata": {},
   "outputs": [],
   "source": [
    "from sklearn.impute import SimpleImputer\n",
    "imputer = SimpleImputer(missing_values=np.nan, strategy='mean')\n",
    "imputer.fit(X[:, 1:3])\n",
    "X[:, 1:3] = imputer.transform(X[:, 1:3])"
   ]
  },
  {
   "cell_type": "code",
   "execution_count": 21,
   "metadata": {},
   "outputs": [
    {
     "name": "stdout",
     "output_type": "stream",
     "text": [
      "[['Yudi' 38.0 2000000.0]\n",
      " ['Slamet' 34.375 1800000.0]\n",
      " ['Herman' 34.0 2200000.0]\n",
      " ['Yudi' 34.0 2800000.0]\n",
      " ['Slamet' 37.0 3200000.0]\n",
      " ['Herman' 29.0 2900000.0]\n",
      " ['Yudi' 37.0 2700000.0]\n",
      " ['Slamet' 38.0 2000000.0]\n",
      " ['Herman' 28.0 1900000.0]\n",
      " ['Yudi' 34.375 2388888.888888889]]\n"
     ]
    }
   ],
   "source": [
    "print(X)"
   ]
  },
  {
   "cell_type": "code",
   "execution_count": 23,
   "metadata": {},
   "outputs": [],
   "source": [
    "from sklearn.compose import ColumnTransformer\n",
    "from sklearn.preprocessing import OneHotEncoder\n",
    "ct = ColumnTransformer(transformers=[('encoder',OneHotEncoder(), [0])], remainder='passthrough')\n",
    "X = np.array(ct.fit_transform(X))"
   ]
  },
  {
   "cell_type": "code",
   "execution_count": 24,
   "metadata": {},
   "outputs": [
    {
     "name": "stdout",
     "output_type": "stream",
     "text": [
      "[[1.0 0.0 0.0 1.0 38.0 2000000.0]\n",
      " [1.0 0.0 1.0 0.0 34.375 1800000.0]\n",
      " [0.0 1.0 0.0 0.0 34.0 2200000.0]\n",
      " [1.0 0.0 0.0 1.0 34.0 2800000.0]\n",
      " [1.0 0.0 1.0 0.0 37.0 3200000.0]\n",
      " [0.0 1.0 0.0 0.0 29.0 2900000.0]\n",
      " [1.0 0.0 0.0 1.0 37.0 2700000.0]\n",
      " [1.0 0.0 1.0 0.0 38.0 2000000.0]\n",
      " [0.0 1.0 0.0 0.0 28.0 1900000.0]\n",
      " [1.0 0.0 0.0 1.0 34.375 2388888.888888889]]\n"
     ]
    }
   ],
   "source": [
    "print(X)"
   ]
  },
  {
   "cell_type": "code",
   "execution_count": 25,
   "metadata": {},
   "outputs": [],
   "source": [
    "from sklearn.preprocessing import LabelEncoder\n",
    "le = LabelEncoder()\n",
    "Y = le.fit_transform(Y)"
   ]
  },
  {
   "cell_type": "code",
   "execution_count": 26,
   "metadata": {},
   "outputs": [
    {
     "name": "stdout",
     "output_type": "stream",
     "text": [
      "[1 0 1 0 0 1 1 0 0 0]\n"
     ]
    }
   ],
   "source": [
    "print(Y)"
   ]
  },
  {
   "cell_type": "code",
   "execution_count": 27,
   "metadata": {},
   "outputs": [],
   "source": [
    "from sklearn.model_selection import train_test_split\n",
    "X_train, X_test, Y_train, Y_test = train_test_split(X, Y, test_size=0.2, random_state = 1)"
   ]
  },
  {
   "cell_type": "code",
   "execution_count": 28,
   "metadata": {},
   "outputs": [
    {
     "name": "stdout",
     "output_type": "stream",
     "text": [
      "[[1.0 0.0 0.0 1.0 37.0 2700000.0]\n",
      " [1.0 0.0 1.0 0.0 37.0 3200000.0]\n",
      " [1.0 0.0 0.0 1.0 38.0 2000000.0]\n",
      " [1.0 0.0 0.0 1.0 34.0 2800000.0]\n",
      " [1.0 0.0 1.0 0.0 34.375 1800000.0]\n",
      " [1.0 0.0 1.0 0.0 38.0 2000000.0]\n",
      " [0.0 1.0 0.0 0.0 28.0 1900000.0]\n",
      " [0.0 1.0 0.0 0.0 29.0 2900000.0]]\n"
     ]
    }
   ],
   "source": [
    "print(X_train)"
   ]
  },
  {
   "cell_type": "code",
   "execution_count": 29,
   "metadata": {},
   "outputs": [
    {
     "name": "stdout",
     "output_type": "stream",
     "text": [
      "[[0.0 1.0 0.0 0.0 34.0 2200000.0]\n",
      " [1.0 0.0 0.0 1.0 34.375 2388888.888888889]]\n"
     ]
    }
   ],
   "source": [
    "print(X_test)"
   ]
  },
  {
   "cell_type": "code",
   "execution_count": 30,
   "metadata": {},
   "outputs": [
    {
     "name": "stdout",
     "output_type": "stream",
     "text": [
      "[1 0 1 0 0 0 0 1]\n"
     ]
    }
   ],
   "source": [
    "print(Y_train)"
   ]
  },
  {
   "cell_type": "code",
   "execution_count": 31,
   "metadata": {},
   "outputs": [
    {
     "name": "stdout",
     "output_type": "stream",
     "text": [
      "[1 0]\n"
     ]
    }
   ],
   "source": [
    "print(Y_test)"
   ]
  },
  {
   "cell_type": "code",
   "execution_count": 32,
   "metadata": {},
   "outputs": [],
   "source": [
    "from sklearn.preprocessing import StandardScaler\n",
    "sc = StandardScaler()\n",
    "X_train[:, 3:] = sc.fit_transform(X_train[:, 3:])\n",
    "X_test[:, 3:] = sc.transform(X_test[:, 3:])"
   ]
  },
  {
   "cell_type": "code",
   "execution_count": 33,
   "metadata": {},
   "outputs": [
    {
     "name": "stdout",
     "output_type": "stream",
     "text": [
      "[[1.0 0.0 0.0 1.2909944487358056 0.6961653502771944 0.5653648929988928]\n",
      " [1.0 0.0 1.0 -0.7745966692414834 0.6961653502771944 1.5486081851708804]\n",
      " [1.0 0.0 0.0 1.2909944487358056 0.9661931225059243 -0.8111757160418898]\n",
      " [1.0 0.0 0.0 1.2909944487358056 -0.11391796640899544 0.7620135514332904]\n",
      " [1.0 0.0 1.0 -0.7745966692414834 -0.012657551823221716\n",
      "  -1.2044730329106847]\n",
      " [1.0 0.0 1.0 -0.7745966692414834 0.9661931225059243 -0.8111757160418898]\n",
      " [0.0 1.0 0.0 -0.7745966692414834 -1.734084599781375 -1.0078243744762871]\n",
      " [0.0 1.0 0.0 -0.7745966692414834 -1.464056827552645 0.9586622098676879]]\n"
     ]
    }
   ],
   "source": [
    "print(X_train)"
   ]
  },
  {
   "cell_type": "code",
   "execution_count": 34,
   "metadata": {},
   "outputs": [
    {
     "name": "stdout",
     "output_type": "stream",
     "text": [
      "[[0.0 1.0 0.0 -0.7745966692414834 -0.11391796640899544\n",
      "  -0.4178783991730947]\n",
      " [1.0 0.0 0.0 1.2909944487358056 -0.012657551823221716\n",
      "  -0.046430933241454767]]\n"
     ]
    }
   ],
   "source": [
    "print(X_test)"
   ]
  },
  {
   "cell_type": "code",
   "execution_count": null,
   "metadata": {},
   "outputs": [],
   "source": []
  }
 ],
 "metadata": {
  "kernelspec": {
   "display_name": "Python 3",
   "language": "python",
   "name": "python3"
  },
  "language_info": {
   "codemirror_mode": {
    "name": "ipython",
    "version": 3
   },
   "file_extension": ".py",
   "mimetype": "text/x-python",
   "name": "python",
   "nbconvert_exporter": "python",
   "pygments_lexer": "ipython3",
   "version": "3.8.5"
  }
 },
 "nbformat": 4,
 "nbformat_minor": 4
}
